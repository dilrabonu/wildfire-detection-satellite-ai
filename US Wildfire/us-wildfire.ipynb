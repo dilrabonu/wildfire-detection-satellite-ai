{
 "cells": [
  {
   "cell_type": "code",
   "execution_count": 1,
   "id": "87e6ff09",
   "metadata": {
    "_cell_guid": "b1076dfc-b9ad-4769-8c92-a6c4dae69d19",
    "_uuid": "8f2839f25d086af736a60e9eeb907d3b93b6e0e5",
    "execution": {
     "iopub.execute_input": "2025-05-04T16:40:35.290441Z",
     "iopub.status.busy": "2025-05-04T16:40:35.290086Z",
     "iopub.status.idle": "2025-05-04T16:40:37.391414Z",
     "shell.execute_reply": "2025-05-04T16:40:37.390346Z"
    },
    "papermill": {
     "duration": 2.109339,
     "end_time": "2025-05-04T16:40:37.393002",
     "exception": false,
     "start_time": "2025-05-04T16:40:35.283663",
     "status": "completed"
    },
    "tags": []
   },
   "outputs": [
    {
     "name": "stdout",
     "output_type": "stream",
     "text": [
      "/kaggle/input/278k-us-wildfires-due-to-lightning-2004-2015/US_Lightning_Forest_Fires.csv\n"
     ]
    }
   ],
   "source": [
    "# This Python 3 environment comes with many helpful analytics libraries installed\n",
    "# It is defined by the kaggle/python Docker image: https://github.com/kaggle/docker-python\n",
    "# For example, here's several helpful packages to load\n",
    "\n",
    "import numpy as np # linear algebra\n",
    "import pandas as pd # data processing, CSV file I/O (e.g. pd.read_csv)\n",
    "\n",
    "# Input data files are available in the read-only \"../input/\" directory\n",
    "# For example, running this (by clicking run or pressing Shift+Enter) will list all files under the input directory\n",
    "\n",
    "import os\n",
    "for dirname, _, filenames in os.walk('/kaggle/input'):\n",
    "    for filename in filenames:\n",
    "        print(os.path.join(dirname, filename))\n",
    "\n",
    "# You can write up to 20GB to the current directory (/kaggle/working/) that gets preserved as output when you create a version using \"Save & Run All\" \n",
    "# You can also write temporary files to /kaggle/temp/, but they won't be saved outside of the current session"
   ]
  },
  {
   "cell_type": "code",
   "execution_count": 2,
   "id": "29b47ee9",
   "metadata": {
    "execution": {
     "iopub.execute_input": "2025-05-04T16:40:37.404045Z",
     "iopub.status.busy": "2025-05-04T16:40:37.403640Z",
     "iopub.status.idle": "2025-05-04T16:40:38.253095Z",
     "shell.execute_reply": "2025-05-04T16:40:38.252100Z"
    },
    "papermill": {
     "duration": 0.856815,
     "end_time": "2025-05-04T16:40:38.254868",
     "exception": false,
     "start_time": "2025-05-04T16:40:37.398053",
     "status": "completed"
    },
    "tags": []
   },
   "outputs": [
    {
     "data": {
      "text/html": [
       "<div>\n",
       "<style scoped>\n",
       "    .dataframe tbody tr th:only-of-type {\n",
       "        vertical-align: middle;\n",
       "    }\n",
       "\n",
       "    .dataframe tbody tr th {\n",
       "        vertical-align: top;\n",
       "    }\n",
       "\n",
       "    .dataframe thead th {\n",
       "        text-align: right;\n",
       "    }\n",
       "</style>\n",
       "<table border=\"1\" class=\"dataframe\">\n",
       "  <thead>\n",
       "    <tr style=\"text-align: right;\">\n",
       "      <th></th>\n",
       "      <th>Unnamed: 0</th>\n",
       "      <th>index</th>\n",
       "      <th>FIRE_YEAR</th>\n",
       "      <th>Fire_Date</th>\n",
       "      <th>DISCOVERY_TIME</th>\n",
       "      <th>STAT_CAUSE_DESCR</th>\n",
       "      <th>Days_to_extinguish_fire</th>\n",
       "      <th>CONT_TIME</th>\n",
       "      <th>FIRE_SIZE</th>\n",
       "      <th>FIRE_SIZE_CLASS</th>\n",
       "      <th>LATITUDE</th>\n",
       "      <th>LONGITUDE</th>\n",
       "      <th>STATE</th>\n",
       "      <th>FIPS_CODE</th>\n",
       "      <th>FIPS_NAME</th>\n",
       "    </tr>\n",
       "  </thead>\n",
       "  <tbody>\n",
       "    <tr>\n",
       "      <th>0</th>\n",
       "      <td>0</td>\n",
       "      <td>1</td>\n",
       "      <td>2004</td>\n",
       "      <td>05-12-2004</td>\n",
       "      <td>845.0</td>\n",
       "      <td>Lightning</td>\n",
       "      <td>0.0</td>\n",
       "      <td>1530.0</td>\n",
       "      <td>0.25</td>\n",
       "      <td>A</td>\n",
       "      <td>38.933056</td>\n",
       "      <td>-120.404444</td>\n",
       "      <td>CA</td>\n",
       "      <td>61.0</td>\n",
       "      <td>Placer</td>\n",
       "    </tr>\n",
       "    <tr>\n",
       "      <th>1</th>\n",
       "      <td>1</td>\n",
       "      <td>3</td>\n",
       "      <td>2004</td>\n",
       "      <td>06-28-2004</td>\n",
       "      <td>1600.0</td>\n",
       "      <td>Lightning</td>\n",
       "      <td>5.0</td>\n",
       "      <td>1400.0</td>\n",
       "      <td>0.10</td>\n",
       "      <td>A</td>\n",
       "      <td>38.559167</td>\n",
       "      <td>-119.913333</td>\n",
       "      <td>CA</td>\n",
       "      <td>3.0</td>\n",
       "      <td>Alpine</td>\n",
       "    </tr>\n",
       "    <tr>\n",
       "      <th>2</th>\n",
       "      <td>2</td>\n",
       "      <td>4</td>\n",
       "      <td>2004</td>\n",
       "      <td>06-28-2004</td>\n",
       "      <td>1600.0</td>\n",
       "      <td>Lightning</td>\n",
       "      <td>5.0</td>\n",
       "      <td>1200.0</td>\n",
       "      <td>0.10</td>\n",
       "      <td>A</td>\n",
       "      <td>38.559167</td>\n",
       "      <td>-119.933056</td>\n",
       "      <td>CA</td>\n",
       "      <td>3.0</td>\n",
       "      <td>Alpine</td>\n",
       "    </tr>\n",
       "    <tr>\n",
       "      <th>3</th>\n",
       "      <td>3</td>\n",
       "      <td>5</td>\n",
       "      <td>2004</td>\n",
       "      <td>06-30-2004</td>\n",
       "      <td>1800.0</td>\n",
       "      <td>Lightning</td>\n",
       "      <td>1.0</td>\n",
       "      <td>1600.0</td>\n",
       "      <td>0.10</td>\n",
       "      <td>A</td>\n",
       "      <td>38.635278</td>\n",
       "      <td>-120.103611</td>\n",
       "      <td>CA</td>\n",
       "      <td>5.0</td>\n",
       "      <td>Amador</td>\n",
       "    </tr>\n",
       "    <tr>\n",
       "      <th>4</th>\n",
       "      <td>4</td>\n",
       "      <td>6</td>\n",
       "      <td>2004</td>\n",
       "      <td>07-01-2004</td>\n",
       "      <td>1800.0</td>\n",
       "      <td>Lightning</td>\n",
       "      <td>1.0</td>\n",
       "      <td>1400.0</td>\n",
       "      <td>0.10</td>\n",
       "      <td>A</td>\n",
       "      <td>38.688333</td>\n",
       "      <td>-120.153333</td>\n",
       "      <td>CA</td>\n",
       "      <td>17.0</td>\n",
       "      <td>El Dorado</td>\n",
       "    </tr>\n",
       "  </tbody>\n",
       "</table>\n",
       "</div>"
      ],
      "text/plain": [
       "   Unnamed: 0  index  FIRE_YEAR   Fire_Date  DISCOVERY_TIME STAT_CAUSE_DESCR  \\\n",
       "0           0      1       2004  05-12-2004           845.0        Lightning   \n",
       "1           1      3       2004  06-28-2004          1600.0        Lightning   \n",
       "2           2      4       2004  06-28-2004          1600.0        Lightning   \n",
       "3           3      5       2004  06-30-2004          1800.0        Lightning   \n",
       "4           4      6       2004  07-01-2004          1800.0        Lightning   \n",
       "\n",
       "   Days_to_extinguish_fire  CONT_TIME  FIRE_SIZE FIRE_SIZE_CLASS   LATITUDE  \\\n",
       "0                      0.0     1530.0       0.25               A  38.933056   \n",
       "1                      5.0     1400.0       0.10               A  38.559167   \n",
       "2                      5.0     1200.0       0.10               A  38.559167   \n",
       "3                      1.0     1600.0       0.10               A  38.635278   \n",
       "4                      1.0     1400.0       0.10               A  38.688333   \n",
       "\n",
       "    LONGITUDE STATE  FIPS_CODE  FIPS_NAME  \n",
       "0 -120.404444    CA       61.0     Placer  \n",
       "1 -119.913333    CA        3.0     Alpine  \n",
       "2 -119.933056    CA        3.0     Alpine  \n",
       "3 -120.103611    CA        5.0     Amador  \n",
       "4 -120.153333    CA       17.0  El Dorado  "
      ]
     },
     "execution_count": 2,
     "metadata": {},
     "output_type": "execute_result"
    }
   ],
   "source": [
    "df = pd.read_csv(\"/kaggle/input/278k-us-wildfires-due-to-lightning-2004-2015/US_Lightning_Forest_Fires.csv\")\n",
    "df.head()"
   ]
  },
  {
   "cell_type": "code",
   "execution_count": 3,
   "id": "2ddbc863",
   "metadata": {
    "execution": {
     "iopub.execute_input": "2025-05-04T16:40:38.266575Z",
     "iopub.status.busy": "2025-05-04T16:40:38.265740Z",
     "iopub.status.idle": "2025-05-04T16:40:38.370757Z",
     "shell.execute_reply": "2025-05-04T16:40:38.369596Z"
    },
    "papermill": {
     "duration": 0.112206,
     "end_time": "2025-05-04T16:40:38.372291",
     "exception": false,
     "start_time": "2025-05-04T16:40:38.260085",
     "status": "completed"
    },
    "tags": []
   },
   "outputs": [
    {
     "name": "stdout",
     "output_type": "stream",
     "text": [
      "<class 'pandas.core.frame.DataFrame'>\n",
      "RangeIndex: 278468 entries, 0 to 278467\n",
      "Data columns (total 15 columns):\n",
      " #   Column                   Non-Null Count   Dtype  \n",
      "---  ------                   --------------   -----  \n",
      " 0   Unnamed: 0               278468 non-null  int64  \n",
      " 1   index                    278468 non-null  int64  \n",
      " 2   FIRE_YEAR                278468 non-null  int64  \n",
      " 3   Fire_Date                278468 non-null  object \n",
      " 4   DISCOVERY_TIME           228272 non-null  float64\n",
      " 5   STAT_CAUSE_DESCR         278468 non-null  object \n",
      " 6   Days_to_extinguish_fire  227876 non-null  float64\n",
      " 7   CONT_TIME                220068 non-null  float64\n",
      " 8   FIRE_SIZE                278468 non-null  float64\n",
      " 9   FIRE_SIZE_CLASS          278468 non-null  object \n",
      " 10  LATITUDE                 278468 non-null  float64\n",
      " 11  LONGITUDE                278468 non-null  float64\n",
      " 12  STATE                    278468 non-null  object \n",
      " 13  FIPS_CODE                156911 non-null  float64\n",
      " 14  FIPS_NAME                156911 non-null  object \n",
      "dtypes: float64(7), int64(3), object(5)\n",
      "memory usage: 31.9+ MB\n"
     ]
    }
   ],
   "source": [
    "df.info()"
   ]
  },
  {
   "cell_type": "code",
   "execution_count": 4,
   "id": "a7a309f8",
   "metadata": {
    "execution": {
     "iopub.execute_input": "2025-05-04T16:40:38.383735Z",
     "iopub.status.busy": "2025-05-04T16:40:38.382890Z",
     "iopub.status.idle": "2025-05-04T16:40:38.465000Z",
     "shell.execute_reply": "2025-05-04T16:40:38.464090Z"
    },
    "papermill": {
     "duration": 0.089337,
     "end_time": "2025-05-04T16:40:38.466594",
     "exception": false,
     "start_time": "2025-05-04T16:40:38.377257",
     "status": "completed"
    },
    "tags": []
   },
   "outputs": [
    {
     "data": {
      "text/plain": [
       "Unnamed: 0                      0\n",
       "index                           0\n",
       "FIRE_YEAR                       0\n",
       "Fire_Date                       0\n",
       "DISCOVERY_TIME              50196\n",
       "STAT_CAUSE_DESCR                0\n",
       "Days_to_extinguish_fire     50592\n",
       "CONT_TIME                   58400\n",
       "FIRE_SIZE                       0\n",
       "FIRE_SIZE_CLASS                 0\n",
       "LATITUDE                        0\n",
       "LONGITUDE                       0\n",
       "STATE                           0\n",
       "FIPS_CODE                  121557\n",
       "FIPS_NAME                  121557\n",
       "dtype: int64"
      ]
     },
     "execution_count": 4,
     "metadata": {},
     "output_type": "execute_result"
    }
   ],
   "source": [
    "df.isnull().sum()"
   ]
  },
  {
   "cell_type": "code",
   "execution_count": 5,
   "id": "2f8a7a5e",
   "metadata": {
    "execution": {
     "iopub.execute_input": "2025-05-04T16:40:38.477845Z",
     "iopub.status.busy": "2025-05-04T16:40:38.477546Z",
     "iopub.status.idle": "2025-05-04T16:40:38.680576Z",
     "shell.execute_reply": "2025-05-04T16:40:38.679620Z"
    },
    "papermill": {
     "duration": 0.21084,
     "end_time": "2025-05-04T16:40:38.682536",
     "exception": false,
     "start_time": "2025-05-04T16:40:38.471696",
     "status": "completed"
    },
    "tags": []
   },
   "outputs": [
    {
     "data": {
      "text/plain": [
       "0"
      ]
     },
     "execution_count": 5,
     "metadata": {},
     "output_type": "execute_result"
    }
   ],
   "source": [
    "df.duplicated().sum()"
   ]
  },
  {
   "cell_type": "code",
   "execution_count": 6,
   "id": "02a1d11b",
   "metadata": {
    "execution": {
     "iopub.execute_input": "2025-05-04T16:40:38.694660Z",
     "iopub.status.busy": "2025-05-04T16:40:38.694346Z",
     "iopub.status.idle": "2025-05-04T16:40:38.714722Z",
     "shell.execute_reply": "2025-05-04T16:40:38.713898Z"
    },
    "papermill": {
     "duration": 0.028174,
     "end_time": "2025-05-04T16:40:38.716458",
     "exception": false,
     "start_time": "2025-05-04T16:40:38.688284",
     "status": "completed"
    },
    "tags": []
   },
   "outputs": [],
   "source": [
    "df.drop(columns=['Unnamed: 0', 'index'], inplace=True)"
   ]
  },
  {
   "cell_type": "code",
   "execution_count": 7,
   "id": "5e0d768f",
   "metadata": {
    "execution": {
     "iopub.execute_input": "2025-05-04T16:40:38.728443Z",
     "iopub.status.busy": "2025-05-04T16:40:38.727567Z",
     "iopub.status.idle": "2025-05-04T16:40:38.785409Z",
     "shell.execute_reply": "2025-05-04T16:40:38.784591Z"
    },
    "papermill": {
     "duration": 0.065636,
     "end_time": "2025-05-04T16:40:38.787122",
     "exception": false,
     "start_time": "2025-05-04T16:40:38.721486",
     "status": "completed"
    },
    "tags": []
   },
   "outputs": [],
   "source": [
    "df['Fire_Date'] = pd.to_datetime(df['Fire_Date'], errors='coerce')"
   ]
  },
  {
   "cell_type": "code",
   "execution_count": 8,
   "id": "1a3f8085",
   "metadata": {
    "execution": {
     "iopub.execute_input": "2025-05-04T16:40:38.798167Z",
     "iopub.status.busy": "2025-05-04T16:40:38.797844Z",
     "iopub.status.idle": "2025-05-04T16:40:38.804911Z",
     "shell.execute_reply": "2025-05-04T16:40:38.804015Z"
    },
    "papermill": {
     "duration": 0.014445,
     "end_time": "2025-05-04T16:40:38.806526",
     "exception": false,
     "start_time": "2025-05-04T16:40:38.792081",
     "status": "completed"
    },
    "tags": []
   },
   "outputs": [
    {
     "data": {
      "text/plain": [
       "0   2004-05-12\n",
       "1   2004-06-28\n",
       "2   2004-06-28\n",
       "3   2004-06-30\n",
       "4   2004-07-01\n",
       "Name: Fire_Date, dtype: datetime64[ns]"
      ]
     },
     "execution_count": 8,
     "metadata": {},
     "output_type": "execute_result"
    }
   ],
   "source": [
    "df['Fire_Date'].head()"
   ]
  },
  {
   "cell_type": "code",
   "execution_count": 9,
   "id": "f22f64a5",
   "metadata": {
    "execution": {
     "iopub.execute_input": "2025-05-04T16:40:38.818361Z",
     "iopub.status.busy": "2025-05-04T16:40:38.817336Z",
     "iopub.status.idle": "2025-05-04T16:40:38.830270Z",
     "shell.execute_reply": "2025-05-04T16:40:38.829244Z"
    },
    "papermill": {
     "duration": 0.020319,
     "end_time": "2025-05-04T16:40:38.831969",
     "exception": false,
     "start_time": "2025-05-04T16:40:38.811650",
     "status": "completed"
    },
    "tags": []
   },
   "outputs": [],
   "source": [
    "df['DISCOVERY_TIME'] = df['DISCOVERY_TIME'].fillna(df['DISCOVERY_TIME'].mode()[0])"
   ]
  },
  {
   "cell_type": "code",
   "execution_count": 10,
   "id": "8c7e324f",
   "metadata": {
    "execution": {
     "iopub.execute_input": "2025-05-04T16:40:38.843376Z",
     "iopub.status.busy": "2025-05-04T16:40:38.842981Z",
     "iopub.status.idle": "2025-05-04T16:40:38.852695Z",
     "shell.execute_reply": "2025-05-04T16:40:38.851791Z"
    },
    "papermill": {
     "duration": 0.01748,
     "end_time": "2025-05-04T16:40:38.854591",
     "exception": false,
     "start_time": "2025-05-04T16:40:38.837111",
     "status": "completed"
    },
    "tags": []
   },
   "outputs": [],
   "source": [
    "df['Days_to_extinguish_fire'] = df['Days_to_extinguish_fire'].fillna(df['Days_to_extinguish_fire'].median())"
   ]
  },
  {
   "cell_type": "code",
   "execution_count": 11,
   "id": "6cc1b156",
   "metadata": {
    "execution": {
     "iopub.execute_input": "2025-05-04T16:40:38.865677Z",
     "iopub.status.busy": "2025-05-04T16:40:38.865376Z",
     "iopub.status.idle": "2025-05-04T16:40:38.875907Z",
     "shell.execute_reply": "2025-05-04T16:40:38.875131Z"
    },
    "papermill": {
     "duration": 0.017857,
     "end_time": "2025-05-04T16:40:38.877503",
     "exception": false,
     "start_time": "2025-05-04T16:40:38.859646",
     "status": "completed"
    },
    "tags": []
   },
   "outputs": [],
   "source": [
    "df['CONT_TIME'] = df['CONT_TIME'].fillna(df['CONT_TIME'].mode()[0])"
   ]
  },
  {
   "cell_type": "code",
   "execution_count": 12,
   "id": "dc7a52ff",
   "metadata": {
    "execution": {
     "iopub.execute_input": "2025-05-04T16:40:38.888742Z",
     "iopub.status.busy": "2025-05-04T16:40:38.888455Z",
     "iopub.status.idle": "2025-05-04T16:40:38.962116Z",
     "shell.execute_reply": "2025-05-04T16:40:38.961214Z"
    },
    "papermill": {
     "duration": 0.08099,
     "end_time": "2025-05-04T16:40:38.963722",
     "exception": false,
     "start_time": "2025-05-04T16:40:38.882732",
     "status": "completed"
    },
    "tags": []
   },
   "outputs": [
    {
     "data": {
      "text/plain": [
       "FIRE_YEAR                       0\n",
       "Fire_Date                       0\n",
       "DISCOVERY_TIME                  0\n",
       "STAT_CAUSE_DESCR                0\n",
       "Days_to_extinguish_fire         0\n",
       "CONT_TIME                       0\n",
       "FIRE_SIZE                       0\n",
       "FIRE_SIZE_CLASS                 0\n",
       "LATITUDE                        0\n",
       "LONGITUDE                       0\n",
       "STATE                           0\n",
       "FIPS_CODE                  121557\n",
       "FIPS_NAME                  121557\n",
       "dtype: int64"
      ]
     },
     "execution_count": 12,
     "metadata": {},
     "output_type": "execute_result"
    }
   ],
   "source": [
    "df.isnull().sum()"
   ]
  },
  {
   "cell_type": "code",
   "execution_count": 13,
   "id": "59dbbc08",
   "metadata": {
    "execution": {
     "iopub.execute_input": "2025-05-04T16:40:38.975707Z",
     "iopub.status.busy": "2025-05-04T16:40:38.974781Z",
     "iopub.status.idle": "2025-05-04T16:40:38.994035Z",
     "shell.execute_reply": "2025-05-04T16:40:38.993290Z"
    },
    "papermill": {
     "duration": 0.026875,
     "end_time": "2025-05-04T16:40:38.995747",
     "exception": false,
     "start_time": "2025-05-04T16:40:38.968872",
     "status": "completed"
    },
    "tags": []
   },
   "outputs": [],
   "source": [
    "df.drop(columns=['FIPS_CODE', 'FIPS_NAME'], inplace=True)\n"
   ]
  },
  {
   "cell_type": "code",
   "execution_count": 14,
   "id": "010e2a9e",
   "metadata": {
    "execution": {
     "iopub.execute_input": "2025-05-04T16:40:39.008853Z",
     "iopub.status.busy": "2025-05-04T16:40:39.008538Z",
     "iopub.status.idle": "2025-05-04T16:40:39.067950Z",
     "shell.execute_reply": "2025-05-04T16:40:39.067006Z"
    },
    "papermill": {
     "duration": 0.068179,
     "end_time": "2025-05-04T16:40:39.069700",
     "exception": false,
     "start_time": "2025-05-04T16:40:39.001521",
     "status": "completed"
    },
    "tags": []
   },
   "outputs": [
    {
     "data": {
      "text/plain": [
       "FIRE_YEAR                  0\n",
       "Fire_Date                  0\n",
       "DISCOVERY_TIME             0\n",
       "STAT_CAUSE_DESCR           0\n",
       "Days_to_extinguish_fire    0\n",
       "CONT_TIME                  0\n",
       "FIRE_SIZE                  0\n",
       "FIRE_SIZE_CLASS            0\n",
       "LATITUDE                   0\n",
       "LONGITUDE                  0\n",
       "STATE                      0\n",
       "dtype: int64"
      ]
     },
     "execution_count": 14,
     "metadata": {},
     "output_type": "execute_result"
    }
   ],
   "source": [
    "df.isnull().sum()"
   ]
  },
  {
   "cell_type": "code",
   "execution_count": 15,
   "id": "1c1b5235",
   "metadata": {
    "execution": {
     "iopub.execute_input": "2025-05-04T16:40:39.082111Z",
     "iopub.status.busy": "2025-05-04T16:40:39.081837Z",
     "iopub.status.idle": "2025-05-04T16:40:39.096330Z",
     "shell.execute_reply": "2025-05-04T16:40:39.095403Z"
    },
    "papermill": {
     "duration": 0.022607,
     "end_time": "2025-05-04T16:40:39.098028",
     "exception": false,
     "start_time": "2025-05-04T16:40:39.075421",
     "status": "completed"
    },
    "tags": []
   },
   "outputs": [
    {
     "data": {
      "text/html": [
       "<div>\n",
       "<style scoped>\n",
       "    .dataframe tbody tr th:only-of-type {\n",
       "        vertical-align: middle;\n",
       "    }\n",
       "\n",
       "    .dataframe tbody tr th {\n",
       "        vertical-align: top;\n",
       "    }\n",
       "\n",
       "    .dataframe thead th {\n",
       "        text-align: right;\n",
       "    }\n",
       "</style>\n",
       "<table border=\"1\" class=\"dataframe\">\n",
       "  <thead>\n",
       "    <tr style=\"text-align: right;\">\n",
       "      <th></th>\n",
       "      <th>FIRE_YEAR</th>\n",
       "      <th>Fire_Date</th>\n",
       "      <th>DISCOVERY_TIME</th>\n",
       "      <th>STAT_CAUSE_DESCR</th>\n",
       "      <th>Days_to_extinguish_fire</th>\n",
       "      <th>CONT_TIME</th>\n",
       "      <th>FIRE_SIZE</th>\n",
       "      <th>FIRE_SIZE_CLASS</th>\n",
       "      <th>LATITUDE</th>\n",
       "      <th>LONGITUDE</th>\n",
       "      <th>STATE</th>\n",
       "    </tr>\n",
       "  </thead>\n",
       "  <tbody>\n",
       "    <tr>\n",
       "      <th>0</th>\n",
       "      <td>2004</td>\n",
       "      <td>2004-05-12</td>\n",
       "      <td>845.0</td>\n",
       "      <td>Lightning</td>\n",
       "      <td>0.0</td>\n",
       "      <td>1530.0</td>\n",
       "      <td>0.25</td>\n",
       "      <td>A</td>\n",
       "      <td>38.933056</td>\n",
       "      <td>-120.404444</td>\n",
       "      <td>CA</td>\n",
       "    </tr>\n",
       "    <tr>\n",
       "      <th>1</th>\n",
       "      <td>2004</td>\n",
       "      <td>2004-06-28</td>\n",
       "      <td>1600.0</td>\n",
       "      <td>Lightning</td>\n",
       "      <td>5.0</td>\n",
       "      <td>1400.0</td>\n",
       "      <td>0.10</td>\n",
       "      <td>A</td>\n",
       "      <td>38.559167</td>\n",
       "      <td>-119.913333</td>\n",
       "      <td>CA</td>\n",
       "    </tr>\n",
       "    <tr>\n",
       "      <th>2</th>\n",
       "      <td>2004</td>\n",
       "      <td>2004-06-28</td>\n",
       "      <td>1600.0</td>\n",
       "      <td>Lightning</td>\n",
       "      <td>5.0</td>\n",
       "      <td>1200.0</td>\n",
       "      <td>0.10</td>\n",
       "      <td>A</td>\n",
       "      <td>38.559167</td>\n",
       "      <td>-119.933056</td>\n",
       "      <td>CA</td>\n",
       "    </tr>\n",
       "    <tr>\n",
       "      <th>3</th>\n",
       "      <td>2004</td>\n",
       "      <td>2004-06-30</td>\n",
       "      <td>1800.0</td>\n",
       "      <td>Lightning</td>\n",
       "      <td>1.0</td>\n",
       "      <td>1600.0</td>\n",
       "      <td>0.10</td>\n",
       "      <td>A</td>\n",
       "      <td>38.635278</td>\n",
       "      <td>-120.103611</td>\n",
       "      <td>CA</td>\n",
       "    </tr>\n",
       "    <tr>\n",
       "      <th>4</th>\n",
       "      <td>2004</td>\n",
       "      <td>2004-07-01</td>\n",
       "      <td>1800.0</td>\n",
       "      <td>Lightning</td>\n",
       "      <td>1.0</td>\n",
       "      <td>1400.0</td>\n",
       "      <td>0.10</td>\n",
       "      <td>A</td>\n",
       "      <td>38.688333</td>\n",
       "      <td>-120.153333</td>\n",
       "      <td>CA</td>\n",
       "    </tr>\n",
       "  </tbody>\n",
       "</table>\n",
       "</div>"
      ],
      "text/plain": [
       "   FIRE_YEAR  Fire_Date  DISCOVERY_TIME STAT_CAUSE_DESCR  \\\n",
       "0       2004 2004-05-12           845.0        Lightning   \n",
       "1       2004 2004-06-28          1600.0        Lightning   \n",
       "2       2004 2004-06-28          1600.0        Lightning   \n",
       "3       2004 2004-06-30          1800.0        Lightning   \n",
       "4       2004 2004-07-01          1800.0        Lightning   \n",
       "\n",
       "   Days_to_extinguish_fire  CONT_TIME  FIRE_SIZE FIRE_SIZE_CLASS   LATITUDE  \\\n",
       "0                      0.0     1530.0       0.25               A  38.933056   \n",
       "1                      5.0     1400.0       0.10               A  38.559167   \n",
       "2                      5.0     1200.0       0.10               A  38.559167   \n",
       "3                      1.0     1600.0       0.10               A  38.635278   \n",
       "4                      1.0     1400.0       0.10               A  38.688333   \n",
       "\n",
       "    LONGITUDE STATE  \n",
       "0 -120.404444    CA  \n",
       "1 -119.913333    CA  \n",
       "2 -119.933056    CA  \n",
       "3 -120.103611    CA  \n",
       "4 -120.153333    CA  "
      ]
     },
     "execution_count": 15,
     "metadata": {},
     "output_type": "execute_result"
    }
   ],
   "source": [
    "df.head()"
   ]
  },
  {
   "cell_type": "code",
   "execution_count": 16,
   "id": "877a0980",
   "metadata": {
    "execution": {
     "iopub.execute_input": "2025-05-04T16:40:39.111096Z",
     "iopub.status.busy": "2025-05-04T16:40:39.110777Z",
     "iopub.status.idle": "2025-05-04T16:40:39.124180Z",
     "shell.execute_reply": "2025-05-04T16:40:39.123147Z"
    },
    "papermill": {
     "duration": 0.021471,
     "end_time": "2025-05-04T16:40:39.125865",
     "exception": false,
     "start_time": "2025-05-04T16:40:39.104394",
     "status": "completed"
    },
    "tags": []
   },
   "outputs": [
    {
     "data": {
      "text/html": [
       "<div>\n",
       "<style scoped>\n",
       "    .dataframe tbody tr th:only-of-type {\n",
       "        vertical-align: middle;\n",
       "    }\n",
       "\n",
       "    .dataframe tbody tr th {\n",
       "        vertical-align: top;\n",
       "    }\n",
       "\n",
       "    .dataframe thead th {\n",
       "        text-align: right;\n",
       "    }\n",
       "</style>\n",
       "<table border=\"1\" class=\"dataframe\">\n",
       "  <thead>\n",
       "    <tr style=\"text-align: right;\">\n",
       "      <th></th>\n",
       "      <th>FIRE_SIZE</th>\n",
       "      <th>Days_to_extinguish_fire</th>\n",
       "      <th>LATITUDE</th>\n",
       "      <th>LONGITUDE</th>\n",
       "    </tr>\n",
       "  </thead>\n",
       "  <tbody>\n",
       "    <tr>\n",
       "      <th>0</th>\n",
       "      <td>0.25</td>\n",
       "      <td>0.0</td>\n",
       "      <td>38.933056</td>\n",
       "      <td>-120.404444</td>\n",
       "    </tr>\n",
       "    <tr>\n",
       "      <th>1</th>\n",
       "      <td>0.10</td>\n",
       "      <td>5.0</td>\n",
       "      <td>38.559167</td>\n",
       "      <td>-119.913333</td>\n",
       "    </tr>\n",
       "    <tr>\n",
       "      <th>2</th>\n",
       "      <td>0.10</td>\n",
       "      <td>5.0</td>\n",
       "      <td>38.559167</td>\n",
       "      <td>-119.933056</td>\n",
       "    </tr>\n",
       "    <tr>\n",
       "      <th>3</th>\n",
       "      <td>0.10</td>\n",
       "      <td>1.0</td>\n",
       "      <td>38.635278</td>\n",
       "      <td>-120.103611</td>\n",
       "    </tr>\n",
       "    <tr>\n",
       "      <th>4</th>\n",
       "      <td>0.10</td>\n",
       "      <td>1.0</td>\n",
       "      <td>38.688333</td>\n",
       "      <td>-120.153333</td>\n",
       "    </tr>\n",
       "  </tbody>\n",
       "</table>\n",
       "</div>"
      ],
      "text/plain": [
       "   FIRE_SIZE  Days_to_extinguish_fire   LATITUDE   LONGITUDE\n",
       "0       0.25                      0.0  38.933056 -120.404444\n",
       "1       0.10                      5.0  38.559167 -119.913333\n",
       "2       0.10                      5.0  38.559167 -119.933056\n",
       "3       0.10                      1.0  38.635278 -120.103611\n",
       "4       0.10                      1.0  38.688333 -120.153333"
      ]
     },
     "execution_count": 16,
     "metadata": {},
     "output_type": "execute_result"
    }
   ],
   "source": [
    "features = df[['FIRE_SIZE', 'Days_to_extinguish_fire', 'LATITUDE', 'LONGITUDE']]\n",
    "features.head()"
   ]
  },
  {
   "cell_type": "code",
   "execution_count": 17,
   "id": "0ffd96cd",
   "metadata": {
    "execution": {
     "iopub.execute_input": "2025-05-04T16:40:39.137972Z",
     "iopub.status.busy": "2025-05-04T16:40:39.137650Z",
     "iopub.status.idle": "2025-05-04T16:40:40.887056Z",
     "shell.execute_reply": "2025-05-04T16:40:40.885943Z"
    },
    "papermill": {
     "duration": 1.757644,
     "end_time": "2025-05-04T16:40:40.889026",
     "exception": false,
     "start_time": "2025-05-04T16:40:39.131382",
     "status": "completed"
    },
    "tags": []
   },
   "outputs": [],
   "source": [
    "from sklearn.preprocessing import StandardScaler\n",
    "\n",
    "scaler = StandardScaler()\n",
    "scaled_features = scaler.fit_transform(features)"
   ]
  },
  {
   "cell_type": "code",
   "execution_count": 18,
   "id": "5d96fcdd",
   "metadata": {
    "execution": {
     "iopub.execute_input": "2025-05-04T16:40:40.902454Z",
     "iopub.status.busy": "2025-05-04T16:40:40.901960Z",
     "iopub.status.idle": "2025-05-04T16:40:42.443253Z",
     "shell.execute_reply": "2025-05-04T16:40:42.442289Z"
    },
    "papermill": {
     "duration": 1.550396,
     "end_time": "2025-05-04T16:40:42.445317",
     "exception": false,
     "start_time": "2025-05-04T16:40:40.894921",
     "status": "completed"
    },
    "tags": []
   },
   "outputs": [
    {
     "name": "stderr",
     "output_type": "stream",
     "text": [
      "/usr/local/lib/python3.11/dist-packages/sklearn/cluster/_kmeans.py:870: FutureWarning: The default value of `n_init` will change from 10 to 'auto' in 1.4. Set the value of `n_init` explicitly to suppress the warning\n",
      "  warnings.warn(\n"
     ]
    }
   ],
   "source": [
    "from sklearn.cluster import KMeans\n",
    "\n",
    "kmeans = KMeans(n_clusters=3, random_state=42)\n",
    "clusters = kmeans.fit_predict(scaled_features)"
   ]
  },
  {
   "cell_type": "code",
   "execution_count": 19,
   "id": "02fb79f1",
   "metadata": {
    "execution": {
     "iopub.execute_input": "2025-05-04T16:40:42.457992Z",
     "iopub.status.busy": "2025-05-04T16:40:42.457661Z",
     "iopub.status.idle": "2025-05-04T16:40:42.482438Z",
     "shell.execute_reply": "2025-05-04T16:40:42.481407Z"
    },
    "papermill": {
     "duration": 0.03336,
     "end_time": "2025-05-04T16:40:42.484306",
     "exception": false,
     "start_time": "2025-05-04T16:40:42.450946",
     "status": "completed"
    },
    "tags": []
   },
   "outputs": [],
   "source": [
    "df_clustered = df.copy()\n",
    "df_clustered['Cluster'] = clusters"
   ]
  },
  {
   "cell_type": "code",
   "execution_count": 20,
   "id": "5dbca861",
   "metadata": {
    "execution": {
     "iopub.execute_input": "2025-05-04T16:40:42.497644Z",
     "iopub.status.busy": "2025-05-04T16:40:42.497309Z",
     "iopub.status.idle": "2025-05-04T16:40:48.535637Z",
     "shell.execute_reply": "2025-05-04T16:40:48.534367Z"
    },
    "papermill": {
     "duration": 6.048507,
     "end_time": "2025-05-04T16:40:48.538941",
     "exception": false,
     "start_time": "2025-05-04T16:40:42.490434",
     "status": "completed"
    },
    "tags": []
   },
   "outputs": [
    {
     "data": {
      "image/png": "[encoded data removed]",
      "text/plain": [
       "<Figure size 1200x800 with 2 Axes>"
      ]
     },
     "metadata": {},
     "output_type": "display_data"
    }
   ],
   "source": [
    "from sklearn.decomposition import PCA\n",
    "import matplotlib.pyplot as plt\n",
    "\n",
    "pca = PCA(n_components=2)\n",
    "pca_result = pca.fit_transform(scaled_features)\n",
    "\n",
    "plt.figure(figsize=(12,8))\n",
    "plt.scatter(pca_result[:, 0], pca_result[:, 1], c=clusters, cmap='viridis', alpha=0.6)\n",
    "plt.title(\"KMeans Clustering of Wildfires (PCA Projections\")\n",
    "plt.xlabel('PCA 1')\n",
    "plt.ylabel(\"PCA 2\")\n",
    "plt.colorbar(label='Cluster')\n",
    "plt.show()"
   ]
  },
  {
   "cell_type": "code",
   "execution_count": 21,
   "id": "6626ae23",
   "metadata": {
    "execution": {
     "iopub.execute_input": "2025-05-04T16:40:48.554746Z",
     "iopub.status.busy": "2025-05-04T16:40:48.554358Z",
     "iopub.status.idle": "2025-05-04T16:40:48.560478Z",
     "shell.execute_reply": "2025-05-04T16:40:48.559474Z"
    },
    "papermill": {
     "duration": 0.01614,
     "end_time": "2025-05-04T16:40:48.562277",
     "exception": false,
     "start_time": "2025-05-04T16:40:48.546137",
     "status": "completed"
    },
    "tags": []
   },
   "outputs": [],
   "source": [
    "df['Cluster'] = clusters\n"
   ]
  },
  {
   "cell_type": "code",
   "execution_count": 22,
   "id": "78e4c254",
   "metadata": {
    "execution": {
     "iopub.execute_input": "2025-05-04T16:40:48.578336Z",
     "iopub.status.busy": "2025-05-04T16:40:48.577996Z",
     "iopub.status.idle": "2025-05-04T16:40:48.606819Z",
     "shell.execute_reply": "2025-05-04T16:40:48.605696Z"
    },
    "papermill": {
     "duration": 0.038953,
     "end_time": "2025-05-04T16:40:48.608396",
     "exception": false,
     "start_time": "2025-05-04T16:40:48.569443",
     "status": "completed"
    },
    "tags": []
   },
   "outputs": [
    {
     "data": {
      "text/html": [
       "<div>\n",
       "<style scoped>\n",
       "    .dataframe tbody tr th:only-of-type {\n",
       "        vertical-align: middle;\n",
       "    }\n",
       "\n",
       "    .dataframe tbody tr th {\n",
       "        vertical-align: top;\n",
       "    }\n",
       "\n",
       "    .dataframe thead th {\n",
       "        text-align: right;\n",
       "    }\n",
       "</style>\n",
       "<table border=\"1\" class=\"dataframe\">\n",
       "  <thead>\n",
       "    <tr style=\"text-align: right;\">\n",
       "      <th></th>\n",
       "      <th>FIRE_SIZE</th>\n",
       "      <th>Days_to_extinguish_fire</th>\n",
       "      <th>LATITUDE</th>\n",
       "      <th>LONGITUDE</th>\n",
       "    </tr>\n",
       "    <tr>\n",
       "      <th>Cluster</th>\n",
       "      <th></th>\n",
       "      <th></th>\n",
       "      <th></th>\n",
       "      <th></th>\n",
       "    </tr>\n",
       "  </thead>\n",
       "  <tbody>\n",
       "    <tr>\n",
       "      <th>0</th>\n",
       "      <td>109.607388</td>\n",
       "      <td>1.474269</td>\n",
       "      <td>41.104596</td>\n",
       "      <td>-114.173644</td>\n",
       "    </tr>\n",
       "    <tr>\n",
       "      <th>1</th>\n",
       "      <td>66.786684</td>\n",
       "      <td>0.320316</td>\n",
       "      <td>32.333045</td>\n",
       "      <td>-84.792586</td>\n",
       "    </tr>\n",
       "    <tr>\n",
       "      <th>2</th>\n",
       "      <td>12775.883978</td>\n",
       "      <td>70.417096</td>\n",
       "      <td>47.706946</td>\n",
       "      <td>-121.413376</td>\n",
       "    </tr>\n",
       "  </tbody>\n",
       "</table>\n",
       "</div>"
      ],
      "text/plain": [
       "            FIRE_SIZE  Days_to_extinguish_fire   LATITUDE   LONGITUDE\n",
       "Cluster                                                              \n",
       "0          109.607388                 1.474269  41.104596 -114.173644\n",
       "1           66.786684                 0.320316  32.333045  -84.792586\n",
       "2        12775.883978                70.417096  47.706946 -121.413376"
      ]
     },
     "execution_count": 22,
     "metadata": {},
     "output_type": "execute_result"
    }
   ],
   "source": [
    "df.groupby('Cluster')[['FIRE_SIZE', 'Days_to_extinguish_fire', 'LATITUDE', 'LONGITUDE']].mean()\n"
   ]
  },
  {
   "cell_type": "code",
   "execution_count": 23,
   "id": "4f781e62",
   "metadata": {
    "execution": {
     "iopub.execute_input": "2025-05-04T16:40:48.625394Z",
     "iopub.status.busy": "2025-05-04T16:40:48.625051Z",
     "iopub.status.idle": "2025-05-04T16:40:59.982486Z",
     "shell.execute_reply": "2025-05-04T16:40:59.981384Z"
    },
    "papermill": {
     "duration": 11.36794,
     "end_time": "2025-05-04T16:40:59.984310",
     "exception": false,
     "start_time": "2025-05-04T16:40:48.616370",
     "status": "completed"
    },
    "tags": []
   },
   "outputs": [
    {
     "name": "stderr",
     "output_type": "stream",
     "text": [
      "/usr/local/lib/python3.11/dist-packages/sklearn/cluster/_kmeans.py:870: FutureWarning: The default value of `n_init` will change from 10 to 'auto' in 1.4. Set the value of `n_init` explicitly to suppress the warning\n",
      "  warnings.warn(\n",
      "/usr/local/lib/python3.11/dist-packages/sklearn/cluster/_kmeans.py:870: FutureWarning: The default value of `n_init` will change from 10 to 'auto' in 1.4. Set the value of `n_init` explicitly to suppress the warning\n",
      "  warnings.warn(\n",
      "/usr/local/lib/python3.11/dist-packages/sklearn/cluster/_kmeans.py:870: FutureWarning: The default value of `n_init` will change from 10 to 'auto' in 1.4. Set the value of `n_init` explicitly to suppress the warning\n",
      "  warnings.warn(\n",
      "/usr/local/lib/python3.11/dist-packages/sklearn/cluster/_kmeans.py:870: FutureWarning: The default value of `n_init` will change from 10 to 'auto' in 1.4. Set the value of `n_init` explicitly to suppress the warning\n",
      "  warnings.warn(\n",
      "/usr/local/lib/python3.11/dist-packages/sklearn/cluster/_kmeans.py:870: FutureWarning: The default value of `n_init` will change from 10 to 'auto' in 1.4. Set the value of `n_init` explicitly to suppress the warning\n",
      "  warnings.warn(\n",
      "/usr/local/lib/python3.11/dist-packages/sklearn/cluster/_kmeans.py:870: FutureWarning: The default value of `n_init` will change from 10 to 'auto' in 1.4. Set the value of `n_init` explicitly to suppress the warning\n",
      "  warnings.warn(\n",
      "/usr/local/lib/python3.11/dist-packages/sklearn/cluster/_kmeans.py:870: FutureWarning: The default value of `n_init` will change from 10 to 'auto' in 1.4. Set the value of `n_init` explicitly to suppress the warning\n",
      "  warnings.warn(\n",
      "/usr/local/lib/python3.11/dist-packages/sklearn/cluster/_kmeans.py:870: FutureWarning: The default value of `n_init` will change from 10 to 'auto' in 1.4. Set the value of `n_init` explicitly to suppress the warning\n",
      "  warnings.warn(\n",
      "/usr/local/lib/python3.11/dist-packages/sklearn/cluster/_kmeans.py:870: FutureWarning: The default value of `n_init` will change from 10 to 'auto' in 1.4. Set the value of `n_init` explicitly to suppress the warning\n",
      "  warnings.warn(\n"
     ]
    },
    {
     "data": {
      "image/png": "[encoded data removed]",
      "text/plain": [
       "<Figure size 640x480 with 1 Axes>"
      ]
     },
     "metadata": {},
     "output_type": "display_data"
    }
   ],
   "source": [
    "inertia = []\n",
    "for k in range(1, 10):\n",
    "    km = KMeans(n_clusters=k, random_state=42)\n",
    "    km.fit(scaled_features)\n",
    "    inertia.append(km.inertia_)\n",
    "\n",
    "# Plot\n",
    "plt.plot(range(1, 10), inertia, marker='o')\n",
    "plt.xlabel('Number of Clusters (k)')\n",
    "plt.ylabel('Inertia (SSE)')\n",
    "plt.title('Elbow Method for Optimal k')\n",
    "plt.grid(True)\n",
    "plt.show()\n"
   ]
  },
  {
   "cell_type": "code",
   "execution_count": 24,
   "id": "1448380d",
   "metadata": {
    "execution": {
     "iopub.execute_input": "2025-05-04T16:41:00.006811Z",
     "iopub.status.busy": "2025-05-04T16:41:00.006451Z",
     "iopub.status.idle": "2025-05-04T16:41:02.304970Z",
     "shell.execute_reply": "2025-05-04T16:41:02.304116Z"
    },
    "papermill": {
     "duration": 2.312358,
     "end_time": "2025-05-04T16:41:02.306687",
     "exception": false,
     "start_time": "2025-05-04T16:40:59.994329",
     "status": "completed"
    },
    "tags": []
   },
   "outputs": [],
   "source": [
    "df.to_csv(\"US-Wildfire.csv\" )"
   ]
  },
  {
   "cell_type": "code",
   "execution_count": null,
   "id": "5870128c",
   "metadata": {
    "papermill": {
     "duration": 0.007826,
     "end_time": "2025-05-04T16:41:02.322715",
     "exception": false,
     "start_time": "2025-05-04T16:41:02.314889",
     "status": "completed"
    },
    "tags": []
   },
   "outputs": [],
   "source": []
  }
 ],
 "metadata": {
  "kaggle": {
   "accelerator": "none",
   "dataSources": [
    {
     "datasetId": 1545253,
     "sourceId": 2547766,
     "sourceType": "datasetVersion"
    }
   ],
   "dockerImageVersionId": 31012,
   "isGpuEnabled": false,
   "isInternetEnabled": true,
   "language": "python",
   "sourceType": "notebook"
  },
  "kernelspec": {
   "display_name": "Python 3",
   "language": "python",
   "name": "python3"
  },
  "language_info": {
   "codemirror_mode": {
    "name": "ipython",
    "version": 3
   },
   "file_extension": ".py",
   "mimetype": "text/x-python",
   "name": "python",
   "nbconvert_exporter": "python",
   "pygments_lexer": "ipython3",
   "version": "3.11.11"
  },
  "papermill": {
   "default_parameters": {},
   "duration": 33.156459,
   "end_time": "2025-05-04T16:41:03.052342",
   "environment_variables": {},
   "exception": null,
   "input_path": "__notebook__.ipynb",
   "output_path": "__notebook__.ipynb",
   "parameters": {},
   "start_time": "2025-05-04T16:40:29.895883",
   "version": "2.6.0"
  }
 },
 "nbformat": 4,
 "nbformat_minor": 5
}
